{
 "cells": [
  {
   "cell_type": "code",
   "execution_count": 14,
   "metadata": {},
   "outputs": [],
   "source": [
    "import numpy as np\n",
    "[data,pred,gt]=np.load('Results/DESK_velocity_MP_LOSO_02_18_2022_1616/tcn/test_1/log/test_Peg_Transfer_S01_T01_pred_gt.npy',allow_pickle=True)"
   ]
  },
  {
   "cell_type": "code",
   "execution_count": 15,
   "metadata": {},
   "outputs": [
    {
     "data": {
      "text/plain": [
       "torch.Size([1, 2860, 14])"
      ]
     },
     "execution_count": 15,
     "metadata": {},
     "output_type": "execute_result"
    }
   ],
   "source": [
    "data.shape"
   ]
  },
  {
   "cell_type": "code",
   "execution_count": 12,
   "metadata": {},
   "outputs": [],
   "source": [
    "data = data[:,:50,:]"
   ]
  },
  {
   "cell_type": "code",
   "execution_count": null,
   "metadata": {},
   "outputs": [],
   "source": [
    "/home/aurora/Documents/MICCAI2022_baseline/COMPASS-main-1/COMPASS-main/TCN/try.ipynb"
   ]
  },
  {
   "cell_type": "code",
   "execution_count": 13,
   "metadata": {},
   "outputs": [
    {
     "data": {
      "text/plain": [
       "torch.Size([1, 50, 14])"
      ]
     },
     "execution_count": 13,
     "metadata": {},
     "output_type": "execute_result"
    }
   ],
   "source": [
    "data.shape"
   ]
  },
  {
   "cell_type": "code",
   "execution_count": 19,
   "metadata": {},
   "outputs": [
    {
     "data": {
      "text/plain": [
       "array(['Touch', 'Touch', 'Touch', 'Touch', 'Touch', 'Touch', 'Touch',\n",
       "       'Touch', 'Touch', 'Touch', 'Touch', 'Touch', 'Touch', 'Touch',\n",
       "       'Touch', 'Touch', 'Touch', 'Touch', 'Touch'], dtype='<U7')"
      ]
     },
     "execution_count": 19,
     "metadata": {},
     "output_type": "execute_result"
    }
   ],
   "source": [
    "pred[1:20]"
   ]
  },
  {
   "cell_type": "code",
   "execution_count": 9,
   "metadata": {},
   "outputs": [
    {
     "data": {
      "text/plain": [
       "['/home/aurora/Documents/MICCAI2022_baseline/COMPASS-main-1/COMPASS-main/Datasets/dV/Peg_Transfer/preprocessed/Peg_Transfer_S01_T06.csv',\n",
       " '/home/aurora/Documents/MICCAI2022_baseline/COMPASS-main-1/COMPASS-main/Datasets/dV/Peg_Transfer/preprocessed/Peg_Transfer_S02_T06.csv',\n",
       " '/home/aurora/Documents/MICCAI2022_baseline/COMPASS-main-1/COMPASS-main/Datasets/dV/Peg_Transfer/preprocessed/Peg_Transfer_S08_T06.csv',\n",
       " '/home/aurora/Documents/MICCAI2022_baseline/COMPASS-main-1/COMPASS-main/Datasets/dV/Peg_Transfer/preprocessed/Peg_Transfer_S06_T06.csv',\n",
       " '/home/aurora/Documents/MICCAI2022_baseline/COMPASS-main-1/COMPASS-main/Datasets/dV/Peg_Transfer/preprocessed/Peg_Transfer_S05_T06.csv',\n",
       " '/home/aurora/Documents/MICCAI2022_baseline/COMPASS-main-1/COMPASS-main/Datasets/dV/Peg_Transfer/preprocessed/Peg_Transfer_S07_T06.csv',\n",
       " '/home/aurora/Documents/MICCAI2022_baseline/COMPASS-main-1/COMPASS-main/Datasets/dV/Peg_Transfer/preprocessed/Peg_Transfer_S04_T06.csv',\n",
       " '/home/aurora/Documents/MICCAI2022_baseline/COMPASS-main-1/COMPASS-main/Datasets/dV/Peg_Transfer/preprocessed/Peg_Transfer_S03_T06.csv']"
      ]
     },
     "execution_count": 9,
     "metadata": {},
     "output_type": "execute_result"
    }
   ],
   "source": [
    "import glob\n",
    "test = glob.glob(\"/home/aurora/Documents/MICCAI2022_baseline/COMPASS-main-1/COMPASS-main/Datasets/dV/Peg_Transfer/preprocessed/*6.*\")\n",
    "test"
   ]
  },
  {
   "cell_type": "code",
   "execution_count": 5,
   "metadata": {},
   "outputs": [
    {
     "data": {
      "text/plain": [
       "['/home/aurora/Documents/MICCAI2022_baseline/COMPASS-main-1/COMPASS-main/Datasets/dV/Peg_Transfer/preprocessed/Peg_Transfer_S03_T02.csv',\n",
       " '/home/aurora/Documents/MICCAI2022_baseline/COMPASS-main-1/COMPASS-main/Datasets/dV/Peg_Transfer/preprocessed/Peg_Transfer_S07_T02.csv',\n",
       " '/home/aurora/Documents/MICCAI2022_baseline/COMPASS-main-1/COMPASS-main/Datasets/dV/Peg_Transfer/preprocessed/Peg_Transfer_S01_T02.csv',\n",
       " '/home/aurora/Documents/MICCAI2022_baseline/COMPASS-main-1/COMPASS-main/Datasets/dV/Peg_Transfer/preprocessed/Peg_Transfer_S04_T02.csv',\n",
       " '/home/aurora/Documents/MICCAI2022_baseline/COMPASS-main-1/COMPASS-main/Datasets/dV/Peg_Transfer/preprocessed/Peg_Transfer_S06_T02.csv',\n",
       " '/home/aurora/Documents/MICCAI2022_baseline/COMPASS-main-1/COMPASS-main/Datasets/dV/Peg_Transfer/preprocessed/Peg_Transfer_S05_T02.csv',\n",
       " '/home/aurora/Documents/MICCAI2022_baseline/COMPASS-main-1/COMPASS-main/Datasets/dV/Peg_Transfer/preprocessed/Peg_Transfer_S08_T02.csv',\n",
       " '/home/aurora/Documents/MICCAI2022_baseline/COMPASS-main-1/COMPASS-main/Datasets/dV/Peg_Transfer/preprocessed/Peg_Transfer_S02_T02.csv']"
      ]
     },
     "execution_count": 5,
     "metadata": {},
     "output_type": "execute_result"
    }
   ],
   "source": [
    "test"
   ]
  }
 ],
 "metadata": {
  "interpreter": {
   "hash": "37dfa0f4d83a0059ada9202d77ffe504bfae4b199a52baeefcd209119822c379"
  },
  "kernelspec": {
   "display_name": "Python 3.8.12 ('MICCAI22ENV')",
   "language": "python",
   "name": "python3"
  },
  "language_info": {
   "codemirror_mode": {
    "name": "ipython",
    "version": 3
   },
   "file_extension": ".py",
   "mimetype": "text/x-python",
   "name": "python",
   "nbconvert_exporter": "python",
   "pygments_lexer": "ipython3",
   "version": "3.8.12"
  },
  "orig_nbformat": 4
 },
 "nbformat": 4,
 "nbformat_minor": 2
}
